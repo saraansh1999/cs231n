{
 "cells": [
  {
   "cell_type": "code",
   "execution_count": 1,
   "metadata": {},
   "outputs": [],
   "source": [
    "  import numpy as np\n",
    "    \n",
    "    "
   ]
  },
  {
   "cell_type": "code",
   "execution_count": 4,
   "metadata": {},
   "outputs": [
    {
     "data": {
      "text/plain": [
       "(1000, 500)"
      ]
     },
     "execution_count": 4,
     "metadata": {},
     "output_type": "execute_result"
    }
   ],
   "source": [
    "np.random.randn(1000, 500).shape"
   ]
  },
  {
   "cell_type": "code",
   "execution_count": 5,
   "metadata": {},
   "outputs": [],
   "source": [
    "a = [-1, 1, -1, 1, -1, 1, -1, 1]"
   ]
  },
  {
   "cell_type": "code",
   "execution_count": 6,
   "metadata": {},
   "outputs": [
    {
     "data": {
      "text/plain": [
       "0.0"
      ]
     },
     "execution_count": 6,
     "metadata": {},
     "output_type": "execute_result"
    }
   ],
   "source": [
    "np.mean(a)\n"
   ]
  },
  {
   "cell_type": "code",
   "execution_count": 7,
   "metadata": {},
   "outputs": [
    {
     "data": {
      "text/plain": [
       "1.0"
      ]
     },
     "execution_count": 7,
     "metadata": {},
     "output_type": "execute_result"
    }
   ],
   "source": [
    "np.std(a)"
   ]
  },
  {
   "cell_type": "code",
   "execution_count": 8,
   "metadata": {},
   "outputs": [],
   "source": [
    "  a = np.random.rand(50)"
   ]
  },
  {
   "cell_type": "code",
   "execution_count": 9,
   "metadata": {},
   "outputs": [
    {
     "data": {
      "text/plain": [
       "array([0.12973409, 0.63005049, 0.8552786 , 0.03523378, 0.86646163,\n",
       "       0.23916565, 0.8210595 , 0.43182503, 0.7269025 , 0.81556697,\n",
       "       0.24048686, 0.18321729, 0.2146691 , 0.89789159, 0.21531202,\n",
       "       0.10827871, 0.488717  , 0.10537139, 0.55838481, 0.70952371,\n",
       "       0.92612234, 0.0652262 , 0.27572805, 0.53187934, 0.35277006,\n",
       "       0.57161189, 0.78060713, 0.88650436, 0.21760195, 0.78444642,\n",
       "       0.82655366, 0.24357329, 0.25984329, 0.65823417, 0.17461711,\n",
       "       0.99327074, 0.95361545, 0.33755808, 0.9688936 , 0.83375427,\n",
       "       0.4193444 , 0.29813466, 0.96772177, 0.97278519, 0.5376638 ,\n",
       "       0.06840837, 0.56119037, 0.18837407, 0.45195443, 0.10844225])"
      ]
     },
     "execution_count": 9,
     "metadata": {},
     "output_type": "execute_result"
    }
   ],
   "source": [
    "a"
   ]
  },
  {
   "cell_type": "code",
   "execution_count": 10,
   "metadata": {},
   "outputs": [],
   "source": [
    "m = np.mean(a)"
   ]
  },
  {
   "cell_type": "code",
   "execution_count": 11,
   "metadata": {},
   "outputs": [
    {
     "data": {
      "text/plain": [
       "0.5097912292064308"
      ]
     },
     "execution_count": 11,
     "metadata": {},
     "output_type": "execute_result"
    }
   ],
   "source": [
    "m"
   ]
  },
  {
   "cell_type": "code",
   "execution_count": 12,
   "metadata": {},
   "outputs": [],
   "source": [
    "s = np.std(a)"
   ]
  },
  {
   "cell_type": "code",
   "execution_count": 13,
   "metadata": {},
   "outputs": [
    {
     "data": {
      "text/plain": [
       "0.30778533666299546"
      ]
     },
     "execution_count": 13,
     "metadata": {},
     "output_type": "execute_result"
    }
   ],
   "source": [
    "s\n"
   ]
  },
  {
   "cell_type": "code",
   "execution_count": 15,
   "metadata": {},
   "outputs": [],
   "source": [
    "hist(a)"
   ]
  },
  {
   "cell_type": "code",
   "execution_count": 18,
   "metadata": {},
   "outputs": [
    {
     "data": {
      "text/plain": [
       "array([94, 89, 63, 89, 13, 23, 92,  0, 94, 95, 82, 10,  7, 40, 77, 52, 29,\n",
       "       29, 58, 26, 97, 77, 78, 34, 94, 19, 93, 93, 46, 64, 27, 58, 56, 79,\n",
       "       18, 70, 94, 70, 61, 90, 34, 15, 51, 68, 40, 56, 21, 63, 69, 11, 33,\n",
       "       40,  1, 16, 36, 64, 73, 28, 46, 78, 65, 57, 40, 62, 97,  8, 12, 99,\n",
       "       54, 81, 52, 49,  4, 61, 61, 34, 62, 66, 75, 74, 61, 85, 35, 48, 97,\n",
       "       85, 36, 38, 45, 94, 40, 43, 30, 12, 30, 33, 29, 12, 14, 92, 60, 87,\n",
       "        5, 32, 58, 68, 14, 36,  3, 73, 63, 50, 10, 58, 71, 78, 75, 97,  0,\n",
       "       21, 98, 23, 78, 36, 91, 64, 24, 67, 10, 35, 38, 63, 81,  9, 89, 48,\n",
       "       73, 12, 79, 32, 24, 54, 31, 90, 74, 99, 23, 79,  5, 21, 91, 63, 29,\n",
       "       22, 88, 54, 77, 14, 55, 98, 78, 57, 78, 17, 59, 10, 18, 24, 53, 16,\n",
       "       97, 98,  7, 25, 59, 87, 41, 11, 23, 42, 34,  3, 83, 50, 20, 21, 26,\n",
       "       52, 29, 68, 31, 81, 53, 61, 59, 80, 34, 63, 77, 81, 92, 24, 95,  3,\n",
       "       67, 15,  3, 97,  0, 80, 14, 83, 19, 11, 26, 20, 99, 53, 19, 39, 48,\n",
       "       51, 51, 55, 18, 64, 30, 27,  3, 71, 12, 85, 73, 19, 64, 10, 55, 74,\n",
       "       89, 85, 17, 53, 23, 81, 92, 25, 29, 45, 76, 39, 57, 90, 74, 26,  6,\n",
       "       54, 70,  1, 47, 98, 64, 95, 64, 55, 27, 51, 19, 71, 98, 86, 80, 90,\n",
       "       80, 17, 43, 78, 32, 70, 38, 46, 21, 22, 45, 34, 11, 36, 31, 49, 67,\n",
       "        6,  4, 25, 16, 32, 31, 45, 66, 65, 11, 84])"
      ]
     },
     "execution_count": 18,
     "metadata": {},
     "output_type": "execute_result"
    }
   ],
   "source": [
    "np.random.choice(100, 300)"
   ]
  },
  {
   "cell_type": "code",
   "execution_count": 19,
   "metadata": {},
   "outputs": [
    {
     "data": {
      "text/plain": [
       "(array([7, 6, 6, 2, 4, 5, 2, 4, 7, 7]),\n",
       " array([0.03523378, 0.13103748, 0.22684117, 0.32264487, 0.41844857,\n",
       "        0.51425226, 0.61005596, 0.70585965, 0.80166335, 0.89746705,\n",
       "        0.99327074]))"
      ]
     },
     "execution_count": 19,
     "metadata": {},
     "output_type": "execute_result"
    }
   ],
   "source": [
    "np.histogram(a)"
   ]
  },
  {
   "cell_type": "code",
   "execution_count": 25,
   "metadata": {},
   "outputs": [
    {
     "data": {
      "text/plain": [
       "(array([7., 6., 6., 2., 4., 5., 2., 4., 7., 7.]),\n",
       " array([-1.54184554, -1.23057764, -0.91930974, -0.60804183, -0.29677393,\n",
       "         0.01449397,  0.32576188,  0.63702978,  0.94829768,  1.25956559,\n",
       "         1.57083349]),\n",
       " <a list of 10 Patch objects>)"
      ]
     },
     "execution_count": 25,
     "metadata": {},
     "output_type": "execute_result"
    },
    {
     "data": {
      "image/png": "[encoded data removed]",
      "text/plain": [
       "<Figure size 432x288 with 1 Axes>"
      ]
     },
     "metadata": {
      "needs_background": "light"
     },
     "output_type": "display_data"
    }
   ],
   "source": [
    "import matplotlib.pyplot as plt\n",
    "%matplotlib inline\n",
    "plt.hist(a)"
   ]
  },
  {
   "cell_type": "markdown",
   "metadata": {},
   "source": [
    "plt.show()"
   ]
  },
  {
   "cell_type": "code",
   "execution_count": 24,
   "metadata": {},
   "outputs": [],
   "source": [
    "a = (a - np.mean(a)) / np.std(a)"
   ]
  },
  {
   "cell_type": "code",
   "execution_count": 26,
   "metadata": {},
   "outputs": [
    {
     "data": {
      "text/plain": [
       "array([-1.23481237,  0.39072448,  1.12249459, -1.54184554,  1.15882844,\n",
       "       -0.8792673 ,  1.01131612, -0.25331356,  0.70539835,  0.9934708 ,\n",
       "       -0.87497465, -1.06104452, -0.95885702,  1.26094495, -0.95676815,\n",
       "       -1.30452126, -0.06847055, -1.3139672 ,  0.1578814 ,  0.64893437,\n",
       "        1.35266713, -1.44439964, -0.76047541,  0.07176467, -0.51016455,\n",
       "        0.20085641,  0.87988566,  1.22394764, -0.94932813,  0.89235958,\n",
       "        1.02916674, -0.86494679, -0.81208526,  0.48229374, -1.08898664,\n",
       "        1.57083349,  1.44199274, -0.55958856,  1.49163173,  1.05256165,\n",
       "       -0.29386336, -0.68767593,  1.48782442,  1.50427557,  0.09055846,\n",
       "       -1.43406072,  0.16699672, -1.04429004, -0.18791277, -1.30398992])"
      ]
     },
     "execution_count": 26,
     "metadata": {},
     "output_type": "execute_result"
    }
   ],
   "source": [
    "a"
   ]
  },
  {
   "cell_type": "code",
   "execution_count": 27,
   "metadata": {},
   "outputs": [
    {
     "data": {
      "text/plain": [
       "(array([7., 6., 6., 2., 4., 5., 2., 4., 7., 7.]),\n",
       " array([-1.54184554, -1.23057764, -0.91930974, -0.60804183, -0.29677393,\n",
       "         0.01449397,  0.32576188,  0.63702978,  0.94829768,  1.25956559,\n",
       "         1.57083349]),\n",
       " <a list of 10 Patch objects>)"
      ]
     },
     "execution_count": 27,
     "metadata": {},
     "output_type": "execute_result"
    },
    {
     "data": {
      "image/png": "[encoded data removed]",
      "text/plain": [
       "<Figure size 432x288 with 1 Axes>"
      ]
     },
     "metadata": {
      "needs_background": "light"
     },
     "output_type": "display_data"
    }
   ],
   "source": [
    "plt.hist(a)"
   ]
  },
  {
   "cell_type": "code",
   "execution_count": null,
   "metadata": {},
   "outputs": [],
   "source": []
  }
 ],
 "metadata": {
  "kernelspec": {
   "display_name": "Python 3",
   "language": "python",
   "name": "python3"
  },
  "language_info": {
   "codemirror_mode": {
    "name": "ipython",
    "version": 3
   },
   "file_extension": ".py",
   "mimetype": "text/x-python",
   "name": "python",
   "nbconvert_exporter": "python",
   "pygments_lexer": "ipython3",
   "version": "3.5.2"
  }
 },
 "nbformat": 4,
 "nbformat_minor": 2
}
